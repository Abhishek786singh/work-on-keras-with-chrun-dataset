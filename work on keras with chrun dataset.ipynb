{
 "cells": [
  {
   "cell_type": "code",
   "execution_count": 1,
   "metadata": {},
   "outputs": [],
   "source": [
    "import numpy as np \n",
    "import pandas as pd\n",
    "import matplotlib.pyplot as plt\n",
    "import seaborn as sns "
   ]
  },
  {
   "cell_type": "markdown",
   "metadata": {},
   "source": [
    "## importing dataset"
   ]
  },
  {
   "cell_type": "code",
   "execution_count": 2,
   "metadata": {},
   "outputs": [
    {
     "data": {
      "text/html": [
       "<div>\n",
       "<style scoped>\n",
       "    .dataframe tbody tr th:only-of-type {\n",
       "        vertical-align: middle;\n",
       "    }\n",
       "\n",
       "    .dataframe tbody tr th {\n",
       "        vertical-align: top;\n",
       "    }\n",
       "\n",
       "    .dataframe thead th {\n",
       "        text-align: right;\n",
       "    }\n",
       "</style>\n",
       "<table border=\"1\" class=\"dataframe\">\n",
       "  <thead>\n",
       "    <tr style=\"text-align: right;\">\n",
       "      <th></th>\n",
       "      <th>RowNumber</th>\n",
       "      <th>CustomerId</th>\n",
       "      <th>Surname</th>\n",
       "      <th>CreditScore</th>\n",
       "      <th>Geography</th>\n",
       "      <th>Gender</th>\n",
       "      <th>Age</th>\n",
       "      <th>Tenure</th>\n",
       "      <th>Balance</th>\n",
       "      <th>NumOfProducts</th>\n",
       "      <th>HasCrCard</th>\n",
       "      <th>IsActiveMember</th>\n",
       "      <th>EstimatedSalary</th>\n",
       "      <th>Exited</th>\n",
       "    </tr>\n",
       "  </thead>\n",
       "  <tbody>\n",
       "    <tr>\n",
       "      <th>0</th>\n",
       "      <td>1</td>\n",
       "      <td>15634602</td>\n",
       "      <td>Hargrave</td>\n",
       "      <td>619</td>\n",
       "      <td>France</td>\n",
       "      <td>Female</td>\n",
       "      <td>42</td>\n",
       "      <td>2</td>\n",
       "      <td>0.00</td>\n",
       "      <td>1</td>\n",
       "      <td>1</td>\n",
       "      <td>1</td>\n",
       "      <td>101348.88</td>\n",
       "      <td>1</td>\n",
       "    </tr>\n",
       "    <tr>\n",
       "      <th>1</th>\n",
       "      <td>2</td>\n",
       "      <td>15647311</td>\n",
       "      <td>Hill</td>\n",
       "      <td>608</td>\n",
       "      <td>Spain</td>\n",
       "      <td>Female</td>\n",
       "      <td>41</td>\n",
       "      <td>1</td>\n",
       "      <td>83807.86</td>\n",
       "      <td>1</td>\n",
       "      <td>0</td>\n",
       "      <td>1</td>\n",
       "      <td>112542.58</td>\n",
       "      <td>0</td>\n",
       "    </tr>\n",
       "    <tr>\n",
       "      <th>2</th>\n",
       "      <td>3</td>\n",
       "      <td>15619304</td>\n",
       "      <td>Onio</td>\n",
       "      <td>502</td>\n",
       "      <td>France</td>\n",
       "      <td>Female</td>\n",
       "      <td>42</td>\n",
       "      <td>8</td>\n",
       "      <td>159660.80</td>\n",
       "      <td>3</td>\n",
       "      <td>1</td>\n",
       "      <td>0</td>\n",
       "      <td>113931.57</td>\n",
       "      <td>1</td>\n",
       "    </tr>\n",
       "    <tr>\n",
       "      <th>3</th>\n",
       "      <td>4</td>\n",
       "      <td>15701354</td>\n",
       "      <td>Boni</td>\n",
       "      <td>699</td>\n",
       "      <td>France</td>\n",
       "      <td>Female</td>\n",
       "      <td>39</td>\n",
       "      <td>1</td>\n",
       "      <td>0.00</td>\n",
       "      <td>2</td>\n",
       "      <td>0</td>\n",
       "      <td>0</td>\n",
       "      <td>93826.63</td>\n",
       "      <td>0</td>\n",
       "    </tr>\n",
       "    <tr>\n",
       "      <th>4</th>\n",
       "      <td>5</td>\n",
       "      <td>15737888</td>\n",
       "      <td>Mitchell</td>\n",
       "      <td>850</td>\n",
       "      <td>Spain</td>\n",
       "      <td>Female</td>\n",
       "      <td>43</td>\n",
       "      <td>2</td>\n",
       "      <td>125510.82</td>\n",
       "      <td>1</td>\n",
       "      <td>1</td>\n",
       "      <td>1</td>\n",
       "      <td>79084.10</td>\n",
       "      <td>0</td>\n",
       "    </tr>\n",
       "  </tbody>\n",
       "</table>\n",
       "</div>"
      ],
      "text/plain": [
       "   RowNumber  CustomerId   Surname  CreditScore Geography  Gender  Age  \\\n",
       "0          1    15634602  Hargrave          619    France  Female   42   \n",
       "1          2    15647311      Hill          608     Spain  Female   41   \n",
       "2          3    15619304      Onio          502    France  Female   42   \n",
       "3          4    15701354      Boni          699    France  Female   39   \n",
       "4          5    15737888  Mitchell          850     Spain  Female   43   \n",
       "\n",
       "   Tenure    Balance  NumOfProducts  HasCrCard  IsActiveMember  \\\n",
       "0       2       0.00              1          1               1   \n",
       "1       1   83807.86              1          0               1   \n",
       "2       8  159660.80              3          1               0   \n",
       "3       1       0.00              2          0               0   \n",
       "4       2  125510.82              1          1               1   \n",
       "\n",
       "   EstimatedSalary  Exited  \n",
       "0        101348.88       1  \n",
       "1        112542.58       0  \n",
       "2        113931.57       1  \n",
       "3         93826.63       0  \n",
       "4         79084.10       0  "
      ]
     },
     "execution_count": 2,
     "metadata": {},
     "output_type": "execute_result"
    }
   ],
   "source": [
    "dataset=pd.read_csv(\"C:/Users/User/Downloads/Churn_Modelling.csv\")\n",
    "dataset.head()"
   ]
  },
  {
   "cell_type": "code",
   "execution_count": 4,
   "metadata": {},
   "outputs": [],
   "source": [
    "x=dataset.iloc[:,3:13].values\n",
    "y=dataset.iloc[:,13].values"
   ]
  },
  {
   "cell_type": "code",
   "execution_count": 5,
   "metadata": {},
   "outputs": [
    {
     "data": {
      "text/plain": [
       "<bound method DataFrame.any of       RowNumber  CustomerId  Surname  CreditScore  Geography  Gender    Age  \\\n",
       "0         False       False    False        False      False   False  False   \n",
       "1         False       False    False        False      False   False  False   \n",
       "2         False       False    False        False      False   False  False   \n",
       "3         False       False    False        False      False   False  False   \n",
       "4         False       False    False        False      False   False  False   \n",
       "5         False       False    False        False      False   False  False   \n",
       "6         False       False    False        False      False   False  False   \n",
       "7         False       False    False        False      False   False  False   \n",
       "8         False       False    False        False      False   False  False   \n",
       "9         False       False    False        False      False   False  False   \n",
       "10        False       False    False        False      False   False  False   \n",
       "11        False       False    False        False      False   False  False   \n",
       "12        False       False    False        False      False   False  False   \n",
       "13        False       False    False        False      False   False  False   \n",
       "14        False       False    False        False      False   False  False   \n",
       "15        False       False    False        False      False   False  False   \n",
       "16        False       False    False        False      False   False  False   \n",
       "17        False       False    False        False      False   False  False   \n",
       "18        False       False    False        False      False   False  False   \n",
       "19        False       False    False        False      False   False  False   \n",
       "20        False       False    False        False      False   False  False   \n",
       "21        False       False    False        False      False   False  False   \n",
       "22        False       False    False        False      False   False  False   \n",
       "23        False       False    False        False      False   False  False   \n",
       "24        False       False    False        False      False   False  False   \n",
       "25        False       False    False        False      False   False  False   \n",
       "26        False       False    False        False      False   False  False   \n",
       "27        False       False    False        False      False   False  False   \n",
       "28        False       False    False        False      False   False  False   \n",
       "29        False       False    False        False      False   False  False   \n",
       "...         ...         ...      ...          ...        ...     ...    ...   \n",
       "9970      False       False    False        False      False   False  False   \n",
       "9971      False       False    False        False      False   False  False   \n",
       "9972      False       False    False        False      False   False  False   \n",
       "9973      False       False    False        False      False   False  False   \n",
       "9974      False       False    False        False      False   False  False   \n",
       "9975      False       False    False        False      False   False  False   \n",
       "9976      False       False    False        False      False   False  False   \n",
       "9977      False       False    False        False      False   False  False   \n",
       "9978      False       False    False        False      False   False  False   \n",
       "9979      False       False    False        False      False   False  False   \n",
       "9980      False       False    False        False      False   False  False   \n",
       "9981      False       False    False        False      False   False  False   \n",
       "9982      False       False    False        False      False   False  False   \n",
       "9983      False       False    False        False      False   False  False   \n",
       "9984      False       False    False        False      False   False  False   \n",
       "9985      False       False    False        False      False   False  False   \n",
       "9986      False       False    False        False      False   False  False   \n",
       "9987      False       False    False        False      False   False  False   \n",
       "9988      False       False    False        False      False   False  False   \n",
       "9989      False       False    False        False      False   False  False   \n",
       "9990      False       False    False        False      False   False  False   \n",
       "9991      False       False    False        False      False   False  False   \n",
       "9992      False       False    False        False      False   False  False   \n",
       "9993      False       False    False        False      False   False  False   \n",
       "9994      False       False    False        False      False   False  False   \n",
       "9995      False       False    False        False      False   False  False   \n",
       "9996      False       False    False        False      False   False  False   \n",
       "9997      False       False    False        False      False   False  False   \n",
       "9998      False       False    False        False      False   False  False   \n",
       "9999      False       False    False        False      False   False  False   \n",
       "\n",
       "      Tenure  Balance  NumOfProducts  HasCrCard  IsActiveMember  \\\n",
       "0      False    False          False      False           False   \n",
       "1      False    False          False      False           False   \n",
       "2      False    False          False      False           False   \n",
       "3      False    False          False      False           False   \n",
       "4      False    False          False      False           False   \n",
       "5      False    False          False      False           False   \n",
       "6      False    False          False      False           False   \n",
       "7      False    False          False      False           False   \n",
       "8      False    False          False      False           False   \n",
       "9      False    False          False      False           False   \n",
       "10     False    False          False      False           False   \n",
       "11     False    False          False      False           False   \n",
       "12     False    False          False      False           False   \n",
       "13     False    False          False      False           False   \n",
       "14     False    False          False      False           False   \n",
       "15     False    False          False      False           False   \n",
       "16     False    False          False      False           False   \n",
       "17     False    False          False      False           False   \n",
       "18     False    False          False      False           False   \n",
       "19     False    False          False      False           False   \n",
       "20     False    False          False      False           False   \n",
       "21     False    False          False      False           False   \n",
       "22     False    False          False      False           False   \n",
       "23     False    False          False      False           False   \n",
       "24     False    False          False      False           False   \n",
       "25     False    False          False      False           False   \n",
       "26     False    False          False      False           False   \n",
       "27     False    False          False      False           False   \n",
       "28     False    False          False      False           False   \n",
       "29     False    False          False      False           False   \n",
       "...      ...      ...            ...        ...             ...   \n",
       "9970   False    False          False      False           False   \n",
       "9971   False    False          False      False           False   \n",
       "9972   False    False          False      False           False   \n",
       "9973   False    False          False      False           False   \n",
       "9974   False    False          False      False           False   \n",
       "9975   False    False          False      False           False   \n",
       "9976   False    False          False      False           False   \n",
       "9977   False    False          False      False           False   \n",
       "9978   False    False          False      False           False   \n",
       "9979   False    False          False      False           False   \n",
       "9980   False    False          False      False           False   \n",
       "9981   False    False          False      False           False   \n",
       "9982   False    False          False      False           False   \n",
       "9983   False    False          False      False           False   \n",
       "9984   False    False          False      False           False   \n",
       "9985   False    False          False      False           False   \n",
       "9986   False    False          False      False           False   \n",
       "9987   False    False          False      False           False   \n",
       "9988   False    False          False      False           False   \n",
       "9989   False    False          False      False           False   \n",
       "9990   False    False          False      False           False   \n",
       "9991   False    False          False      False           False   \n",
       "9992   False    False          False      False           False   \n",
       "9993   False    False          False      False           False   \n",
       "9994   False    False          False      False           False   \n",
       "9995   False    False          False      False           False   \n",
       "9996   False    False          False      False           False   \n",
       "9997   False    False          False      False           False   \n",
       "9998   False    False          False      False           False   \n",
       "9999   False    False          False      False           False   \n",
       "\n",
       "      EstimatedSalary  Exited  \n",
       "0               False   False  \n",
       "1               False   False  \n",
       "2               False   False  \n",
       "3               False   False  \n",
       "4               False   False  \n",
       "5               False   False  \n",
       "6               False   False  \n",
       "7               False   False  \n",
       "8               False   False  \n",
       "9               False   False  \n",
       "10              False   False  \n",
       "11              False   False  \n",
       "12              False   False  \n",
       "13              False   False  \n",
       "14              False   False  \n",
       "15              False   False  \n",
       "16              False   False  \n",
       "17              False   False  \n",
       "18              False   False  \n",
       "19              False   False  \n",
       "20              False   False  \n",
       "21              False   False  \n",
       "22              False   False  \n",
       "23              False   False  \n",
       "24              False   False  \n",
       "25              False   False  \n",
       "26              False   False  \n",
       "27              False   False  \n",
       "28              False   False  \n",
       "29              False   False  \n",
       "...               ...     ...  \n",
       "9970            False   False  \n",
       "9971            False   False  \n",
       "9972            False   False  \n",
       "9973            False   False  \n",
       "9974            False   False  \n",
       "9975            False   False  \n",
       "9976            False   False  \n",
       "9977            False   False  \n",
       "9978            False   False  \n",
       "9979            False   False  \n",
       "9980            False   False  \n",
       "9981            False   False  \n",
       "9982            False   False  \n",
       "9983            False   False  \n",
       "9984            False   False  \n",
       "9985            False   False  \n",
       "9986            False   False  \n",
       "9987            False   False  \n",
       "9988            False   False  \n",
       "9989            False   False  \n",
       "9990            False   False  \n",
       "9991            False   False  \n",
       "9992            False   False  \n",
       "9993            False   False  \n",
       "9994            False   False  \n",
       "9995            False   False  \n",
       "9996            False   False  \n",
       "9997            False   False  \n",
       "9998            False   False  \n",
       "9999            False   False  \n",
       "\n",
       "[10000 rows x 14 columns]>"
      ]
     },
     "execution_count": 5,
     "metadata": {},
     "output_type": "execute_result"
    }
   ],
   "source": [
    "dataset.isnull().any\n",
    "data"
   ]
  },
  {
   "cell_type": "markdown",
   "metadata": {},
   "source": [
    "##Encoding caterorical data"
   ]
  },
  {
   "cell_type": "code",
   "execution_count": 7,
   "metadata": {},
   "outputs": [
    {
     "name": "stderr",
     "output_type": "stream",
     "text": [
      "C:\\Users\\User\\Anaconda3\\envs\\tensorenv\\lib\\site-packages\\sklearn\\preprocessing\\_encoders.py:415: FutureWarning: The handling of integer data will change in version 0.22. Currently, the categories are determined based on the range [0, max(values)], while in the future they will be determined based on the unique values.\n",
      "If you want the future behaviour and silence this warning, you can specify \"categories='auto'\".\n",
      "In case you used a LabelEncoder before this OneHotEncoder to convert the categories to integers, then you can now use the OneHotEncoder directly.\n",
      "  warnings.warn(msg, FutureWarning)\n",
      "C:\\Users\\User\\Anaconda3\\envs\\tensorenv\\lib\\site-packages\\sklearn\\preprocessing\\_encoders.py:451: DeprecationWarning: The 'categorical_features' keyword is deprecated in version 0.20 and will be removed in 0.22. You can use the ColumnTransformer instead.\n",
      "  \"use the ColumnTransformer instead.\", DeprecationWarning)\n"
     ]
    }
   ],
   "source": [
    "from sklearn.preprocessing import LabelEncoder,OneHotEncoder\n",
    "labelencoder_x_1=LabelEncoder()\n",
    "x[:,1]=labelencoder_x_1.fit_transform(x[:,1])\n",
    "labelencoder_x_2=LabelEncoder()\n",
    "x[:,2]=labelencoder_x_2.fit_transform(x[:,2])\n",
    "onehotencoder=OneHotEncoder(categorical_features=[1])\n",
    "x=onehotencoder.fit_transform(x).toarray()\n",
    "x=x[:,1:]"
   ]
  },
  {
   "cell_type": "code",
   "execution_count": 8,
   "metadata": {},
   "outputs": [],
   "source": [
    "from sklearn.model_selection import train_test_split\n",
    "x_train,x_test,y_train,y_test = train_test_split(x,y ,test_size=0.2,random_state=0)\n"
   ]
  },
  {
   "cell_type": "markdown",
   "metadata": {},
   "source": [
    "## feature Scaling"
   ]
  },
  {
   "cell_type": "code",
   "execution_count": 17,
   "metadata": {},
   "outputs": [],
   "source": [
    "from sklearn.preprocessing import StandardScaler\n",
    "sc=StandardScaler()\n",
    "x_train=sc.fit_transform(x_train)\n",
    "x_test=sc.transform(x_test)\n"
   ]
  },
  {
   "cell_type": "markdown",
   "metadata": {},
   "source": [
    "## make ANN AND IMPORT Keras"
   ]
  },
  {
   "cell_type": "code",
   "execution_count": 37,
   "metadata": {},
   "outputs": [],
   "source": [
    "#from tensorflow.python.keras import backend as k\n",
    "import tensorflow as tf \n",
    "import keras\n",
    "#import keras.backend as K\n",
    "\n",
    "from tensorflow.keras.models import Sequential\n",
    "from tensorflow .keras.layers import Dense\n",
    "classifier=tensorflow.keras.Sequential()\n",
    "classifier.add(Dense(units=6,kernel_initializer = 'uniform',activation = 'relu',input_dim=11))\n",
    "classifier.add(Dense(units=6,kernel_initializer = 'uniform',activation = 'relu'))\n",
    "classifier.add(Dense(units=1,kernel_initializer = 'uniform',activation = 'sigmoid'))\n",
    "classifier.compile(optimizer='adam',loss='binary_crossentropy',metrics=['accuracy'])\n",
    "\n"
   ]
  },
  {
   "cell_type": "markdown",
   "metadata": {},
   "source": [
    "## fitting the ANN to training set"
   ]
  },
  {
   "cell_type": "code",
   "execution_count": 38,
   "metadata": {},
   "outputs": [
    {
     "name": "stderr",
     "output_type": "stream",
     "text": [
      "WARNING: Logging before flag parsing goes to stderr.\n",
      "W0820 16:13:46.480033 13112 deprecation.py:323] From C:\\Users\\User\\Anaconda3\\envs\\tensorenv\\lib\\site-packages\\tensorflow\\python\\ops\\math_grad.py:1250: add_dispatch_support.<locals>.wrapper (from tensorflow.python.ops.array_ops) is deprecated and will be removed in a future version.\n",
      "Instructions for updating:\n",
      "Use tf.where in 2.0, which has the same broadcast rule as np.where\n"
     ]
    },
    {
     "name": "stdout",
     "output_type": "stream",
     "text": [
      "Train on 8000 samples\n",
      "Epoch 1/10\n",
      "8000/8000 [==============================] - 3s 395us/sample - loss: 0.4938 - accuracy: 0.7956\n",
      "Epoch 2/10\n",
      "8000/8000 [==============================] - 2s 205us/sample - loss: 0.4313 - accuracy: 0.7960\n",
      "Epoch 3/10\n",
      "8000/8000 [==============================] - 2s 203us/sample - loss: 0.4290 - accuracy: 0.7960\n",
      "Epoch 4/10\n",
      "8000/8000 [==============================] - 2s 206us/sample - loss: 0.4266 - accuracy: 0.7960\n",
      "Epoch 5/10\n",
      "8000/8000 [==============================] - 2s 205us/sample - loss: 0.4226 - accuracy: 0.8035\n",
      "Epoch 6/10\n",
      "8000/8000 [==============================] - 2s 223us/sample - loss: 0.4190 - accuracy: 0.8239\n",
      "Epoch 7/10\n",
      "8000/8000 [==============================] - 2s 218us/sample - loss: 0.4170 - accuracy: 0.8286\n",
      "Epoch 8/10\n",
      "8000/8000 [==============================] - 2s 214us/sample - loss: 0.4149 - accuracy: 0.8300\n",
      "Epoch 9/10\n",
      "8000/8000 [==============================] - 2s 228us/sample - loss: 0.4127 - accuracy: 0.8292\n",
      "Epoch 10/10\n",
      "8000/8000 [==============================] - 2s 205us/sample - loss: 0.4123 - accuracy: 0.8309\n"
     ]
    },
    {
     "data": {
      "text/plain": [
       "<tensorflow.python.keras.callbacks.History at 0x2afaeaad550>"
      ]
     },
     "execution_count": 38,
     "metadata": {},
     "output_type": "execute_result"
    }
   ],
   "source": [
    "classifier.fit(x_train,y_train,batch_size = 10,epochs=10)"
   ]
  },
  {
   "cell_type": "markdown",
   "metadata": {},
   "source": [
    "## predication"
   ]
  },
  {
   "cell_type": "code",
   "execution_count": 39,
   "metadata": {},
   "outputs": [],
   "source": [
    "y_pred = classifier.predict(x_test)\n",
    "y_pred = (y_pred>0.5)\n"
   ]
  },
  {
   "cell_type": "code",
   "execution_count": 43,
   "metadata": {},
   "outputs": [],
   "source": [
    "# if we want to predict more then\n",
    "#new_prediction=classifier.predict(sc.transform(np.array([[0.0,0,600,1,40,3,6000]]))\n",
    "#new_prediction =(new_predict>0.5) \n",
    "                           "
   ]
  },
  {
   "cell_type": "markdown",
   "metadata": {},
   "source": [
    "##making the confusion metrix"
   ]
  },
  {
   "cell_type": "code",
   "execution_count": 46,
   "metadata": {},
   "outputs": [
    {
     "data": {
      "text/plain": [
       "array([[1559,   36],\n",
       "       [ 291,  114]], dtype=int64)"
      ]
     },
     "execution_count": 46,
     "metadata": {},
     "output_type": "execute_result"
    }
   ],
   "source": [
    "from sklearn.metrics import confusion_matrix\n",
    "cm = confusion_matrix(y_test,y_pred)\n",
    "cm"
   ]
  },
  {
   "cell_type": "markdown",
   "metadata": {},
   "source": [
    "## improving the ANN"
   ]
  },
  {
   "cell_type": "code",
   "execution_count": 59,
   "metadata": {},
   "outputs": [],
   "source": [
    "# dropout Regularization to reduce overfiting if needed\n",
    "from keras.wrappers.scikit_learn import KerasClassifier\n",
    "from sklearn.model_selection import GridSearchCV"
   ]
  },
  {
   "cell_type": "code",
   "execution_count": 60,
   "metadata": {},
   "outputs": [],
   "source": [
    "from keras.models import Sequential\n",
    "from keras.layers import Dense"
   ]
  },
  {
   "cell_type": "code",
   "execution_count": null,
   "metadata": {},
   "outputs": [],
   "source": [
    "def build_classifier(optimizer):\n",
    "    classifier=Sequential()\n",
    "    \n",
    "    classifier.add(Dense(units=6,kernel_initializer = 'uniform',activation = 'relu',input_dim=11))\n",
    "    classifier.add(Dense(units=6,kernel_initializer = 'uniform',activation = 'relu'))\n",
    "    classifier.add(Dense(units=1,kernel_initializer = 'uniform',activation = 'sigmoid'))\n",
    "    classifier.compile(optimizer=optimizer,loss='binary_crossentropy',metrics=['accuracy'])\n",
    "    return classifier\n",
    "classifier = kerasClassifier(build_fn = build_classifier)\n",
    "parameters={'batch_size':[25,32],\n",
    "           'epochs':[1,2],\n",
    "           'optimizer':['adam','rmsprop']}\n",
    "grid_search = GridSearchCV(estimator=classifier,\n",
    "                          param_grid = parameters,\n",
    "                          scoring='accuracy',\n",
    "                          cv=10)\n",
    "grid_search =grid_search.fit(x_train,y_train)\n",
    "best_parameters=grid_search.best_params_\n",
    "best_accuracy = grid_search.best_score_\n",
    "\n",
    "\n",
    "    "
   ]
  },
  {
   "cell_type": "code",
   "execution_count": null,
   "metadata": {},
   "outputs": [],
   "source": []
  }
 ],
 "metadata": {
  "kernelspec": {
   "display_name": "Python 3",
   "language": "python",
   "name": "python3"
  },
  "language_info": {
   "codemirror_mode": {
    "name": "ipython",
    "version": 3
   },
   "file_extension": ".py",
   "mimetype": "text/x-python",
   "name": "python",
   "nbconvert_exporter": "python",
   "pygments_lexer": "ipython3",
   "version": "3.7.3"
  }
 },
 "nbformat": 4,
 "nbformat_minor": 2
}
